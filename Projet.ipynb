{
 "cells": [
  {
   "cell_type": "code",
   "execution_count": null,
   "id": "95e83e11-3292-4463-be13-c8ef45800b47",
   "metadata": {},
   "outputs": [],
   "source": [
    "## Collecte de données\n",
    "\n",
    "Vous devez collecter et télécharger un ensemble d'images. Vous avez les tâches suivantes à programmer, en automatisant le processus autant que possible :\n",
    "\n",
    "1.  Créer un dossier appelé *images*.\n",
    "2.  Télécharger les images sous licence ouverte dans le dossier *images* (minimum 100\n",
    "    images).\n",
    "3.  Enregistrez les métadonnées de chaque image comme la taille de l'image, le format de l'image (.jpeg,\n",
    "    .png, etc.), l'orientation de l'image (paysage, portrait, carré, etc.),\n",
    "    date de création, modèle d'appareil photo, etc. dans un ou plusieurs fichiers JSON. Vous pouvez utiliser les informations [Exif](https://en.wikipedia.org/wiki/Exif) présentes dans les fichiers d'images."
   ]
  },
  {
   "cell_type": "code",
   "execution_count": null,
   "id": "812c8ba3-694c-442c-a0ed-2a5b3e4d1e50",
   "metadata": {},
   "outputs": [],
   "source": []
  }
 ],
 "metadata": {
  "kernelspec": {
   "display_name": "Python 3 (ipykernel)",
   "language": "python",
   "name": "python3"
  },
  "language_info": {
   "codemirror_mode": {
    "name": "ipython",
    "version": 3
   },
   "file_extension": ".py",
   "mimetype": "text/x-python",
   "name": "python",
   "nbconvert_exporter": "python",
   "pygments_lexer": "ipython3",
   "version": "3.12.3"
  }
 },
 "nbformat": 4,
 "nbformat_minor": 5
}
